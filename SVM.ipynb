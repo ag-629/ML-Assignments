{
 "cells": [
  {
   "cell_type": "markdown",
   "metadata": {},
   "source": [
    "# Homework 4: SVM\n",
    "\n",
    "\n",
    "This assignment is due on Moodle by **11:59pm on Friday November 8**. \n",
    "Your solutions to theoretical questions should be done in Markdown/MathJax directly below the associated question.\n",
    "Your solutions to computational questions should include any specified Python code and results \n",
    "as well as written commentary on your conclusions.\n",
    "Remember that you are encouraged to discuss the problems with your instructors and classmates, \n",
    "but **you must write all code and solutions on your own**. For a refresher on the course **Collaboration Policy** click [here](https://github.com/BoulderDS/CSCI5622-Machine-Learning/blob/master/info/syllabus.md#collaboration-policy).\n",
    "\n",
    "**NOTES**: \n",
    "\n",
    "- Do **NOT** load or use any Python packages that are not available in Anaconda (Version: 2019.07) with Python 3.7. \n",
    "- Some problems with code may be autograded.  If we provide a function API **do not** change it.  If we do not provide a function API then you're free to structure your code however you like. \n",
    "- Submit only this Jupyter notebook to Moodle.  Do not compress it using tar, rar, zip, etc. \n",
    "- In this homework you will explore the primal and dual representations of support vector machines, as well as the performance of various kernels while classifying sentiments. Install the following packages: `nltk` (Version: 3.4.5), `scikit-learn` (Version: 0.21.3)\n"
   ]
  },
  {
   "cell_type": "markdown",
   "metadata": {},
   "source": [
    "Name: **Andrew Gerlach ange6809**"
   ]
  },
  {
   "cell_type": "code",
   "execution_count": 1,
   "metadata": {},
   "outputs": [],
   "source": [
    "import math\n",
    "import pickle\n",
    "import gzip\n",
    "import numpy as np\n",
    "import pandas\n",
    "import matplotlib.pylab as plt\n",
    "%matplotlib inline"
   ]
  },
  {
   "cell_type": "markdown",
   "metadata": {},
   "source": [
    "[40 Points] Problem 1 - Basic concepts of SVM\n",
    "---\n",
    "\n",
    "**Part 1 [10 points]:** \n",
    "* What are the main differences between the primal and the dual representations?\n",
    "* For the variables $\\xi_i$, $C$ in the primal formation, what are their roles? Write out the upper/lower bounds (constraints) of these variables. What are the interpretation for these maximum/minimum values?\n",
    "* For the variable $\\alpha_i$, $\\beta_i$ in the dual formation, what are the upper/lower bound (constraints) of them?"
   ]
  },
  {
   "cell_type": "markdown",
   "metadata": {
    "collapsed": true,
    "deletable": false,
    "nbgrader": {
     "cell_type": "markdown",
     "checksum": "f616bf5ea6cd25ba5b9bbbf94bb465f5",
     "grade": true,
     "grade_id": "cell-f177349aed9aabcf",
     "locked": false,
     "points": 10,
     "schema_version": 3,
     "solution": true
    }
   },
   "source": [
    "The primal representation involves classifying a point using the weight vector. This can be difficult for high-dimensional data. The dual problem uses the training data to construct the weight vector into $w = \\sum_{i = 1}^{n} \\alpha_iy_ix_i$. In this representation the objective function optimizes over the $\\alpha_i$'s. The only $\\alpha$ that won't be zero will be the ones associated with the suppoert vectors, making this representation much easier to compute.\n",
    "\n",
    "$\\xi$ is used in the primal problem as a way to prevent overfitting when not using a kernel function. It allows for some misclassified points within a certain range (slack). $C$ determines the penatly for allowing the misclasified points. $\\xi \\geq 0$ and $C > 0$. Each $xi_i$ must be non-megative to prevent having negative slack. The higher $xi$ is, the more misclassifications you allow. The higher $C$ is, the more you penalize allowing misclassified points.\n",
    "\n",
    "\n",
    "$\\alpha_i \\geq 0$ and $\\beta_i \\geq 0$ and $\\alpha_i + \\beta_i = C$"
   ]
  },
  {
   "cell_type": "markdown",
   "metadata": {},
   "source": [
    "**Part 2 [20 points]:** \n",
    "\n",
    " * Given a weight vector, implement the `find_support` function that returns the indices of the support vectors.\n",
    " * Given a weight vector, implement the `find_slack` function that returns the indices of the vectors with nonzero slack.\n",
    " * Given the alpha dual vector, implement the `weight_vector` function that returns the corresponding weight vector."
   ]
  },
  {
   "cell_type": "code",
   "execution_count": 2,
   "metadata": {
    "deletable": false,
    "nbgrader": {
     "cell_type": "code",
     "checksum": "95c07ce92336485501945c905ee57cdd",
     "grade": false,
     "grade_id": "cell-14c104d96c00c2eb",
     "locked": false,
     "schema_version": 3,
     "solution": true
    }
   },
   "outputs": [],
   "source": [
    "class SVM:\n",
    "    \n",
    "    def __init__(self):\n",
    "        self.kINSP = np.array([(1, 8, +1),\n",
    "                       (7, 2, -1),\n",
    "                       (6, -1, -1),\n",
    "                       (-5, 0, +1),\n",
    "                       (-5, 1, -1),\n",
    "                       (-5, 2, +1),\n",
    "                       (6, 3, +1),\n",
    "                       (6, 1, -1),\n",
    "                       (5, 2, -1)])\n",
    "        self.kSEP = np.array([(-2, 2, +1),    # 0 - A\n",
    "                      (0, 4, +1),             # 1 - B\n",
    "                      (2, 1, +1),             # 2 - C\n",
    "                      (-2, -3, -1),           # 3 - D\n",
    "                      (0, -1, -1),            # 4 - E\n",
    "                      (2, -3, -1),            # 5 - F\n",
    "                      ])\n",
    "\n",
    "\n",
    "    def weight_vector(self, x, y, alpha):\n",
    "        \"\"\"\n",
    "        Given a vector of alphas, compute the primal weight vector w.\n",
    "        The vector w should be returned as an Numpy array.\n",
    "        \"\"\"\n",
    "\n",
    "        w = np.zeros(len(x[0]))\n",
    "        # YOUR CODE HERE\n",
    "        size = x.shape[0]\n",
    "        for i in range(len(w)):\n",
    "            for j in range(size):\n",
    "                w[i] = w[i] + alpha[j] * x[j][i] * y[j]\n",
    "        return w\n",
    "\n",
    "\n",
    "    def find_support(self, x, y, w, b, tolerance=0.001):\n",
    "        \"\"\"\n",
    "        Given a set of training examples and primal weights, return the indices\n",
    "        of all of the support vectors as a set.\n",
    "        \"\"\"\n",
    "\n",
    "        support = set()\n",
    "        # YOUR CODE HERE\n",
    "        for i in range(len(x)):\n",
    "            curr = y[i] * (np.dot(x[i],w) + b)\n",
    "            if np.absolute(curr - 1) <= tolerance:\n",
    "                support.add(i)\n",
    "        return support\n",
    "\n",
    "\n",
    "\n",
    "    def find_slack(self, x, y, w, b):\n",
    "        \"\"\"\n",
    "        Given a set of training examples and primal weights, return the indices\n",
    "        of all examples with nonzero slack as a set.\n",
    "        \"\"\"\n",
    "\n",
    "        slack = set()\n",
    "        # YOUR CODE HERE\n",
    "        for i in range(len(x)):\n",
    "            curr = y[i] * (np.dot(x[i],w) + b)\n",
    "            if 1 - curr > 0:\n",
    "                slack.add(i)\n",
    "        return slack"
   ]
  },
  {
   "cell_type": "code",
   "execution_count": 3,
   "metadata": {
    "deletable": false,
    "editable": false,
    "nbgrader": {
     "cell_type": "code",
     "checksum": "3aa73cc220bc2b16c09b0e72ebd10dfa",
     "grade": true,
     "grade_id": "cell-3c7d7f432578009e",
     "locked": true,
     "points": 20,
     "schema_version": 3,
     "solution": false
    }
   },
   "outputs": [
    {
     "name": "stderr",
     "output_type": "stream",
     "text": [
      "TestWideSlack (tests.tests.TestSVM) ... ok\n",
      "TestNarrowSlack (tests.tests.TestSVM) ... ok\n",
      "TestSupport (tests.tests.TestSVM) ... ok\n",
      "TestWeight (tests.tests.TestSVM) ... ok\n",
      "\n",
      "----------------------------------------------------------------------\n",
      "Ran 4 tests in 0.006s\n",
      "\n",
      "OK\n"
     ]
    }
   ],
   "source": [
    "from tests import tests\n",
    "tests.run_test_suite(\"prob 1\", SVM)"
   ]
  },
  {
   "cell_type": "markdown",
   "metadata": {},
   "source": [
    "**Part 3 [10 points]:** \n",
    "\n",
    "The goal of this problem is to correctly classify test data points, given a training data set.\n",
    "For this problem, assume that we are training an SVM with a quadratic kernel, which means our kernel function is a polynomial kernel of degree 2. You are given the data set presented in the figure below. The slack penalty $C$ will determine the location of the decision boundary.\n",
    "\n",
    "Justify the following questions in a sentence or via drawing decision boundary.\n",
    "![training_data](./data/data.png)\n",
    "\n",
    "* Where would the decision boundary be for very large values of $C$ ?\n",
    "* Where you would expect the decision boundary to be if  $C = 0$ ?\n",
    "* Which of the two cases above would you expect to generalize better on test data? Why?"
   ]
  },
  {
   "cell_type": "markdown",
   "metadata": {
    "deletable": false,
    "nbgrader": {
     "cell_type": "markdown",
     "checksum": "985db05b9496fb3714ee2096479f6f7d",
     "grade": true,
     "grade_id": "cell-02406ba497be1623",
     "locked": false,
     "points": 10,
     "schema_version": 3,
     "solution": true
    }
   },
   "source": [
    "Because the kernel function is of degree 2, the large values for C would create a circle around the cluter of o's, excluding the 2 +'s in that cluster. For C = 0 the decision boundary would be a straight line of slope -1 that splits the 2 clusters down the middle. The better generalization would come from C = 0, because that classifier would be less overfit."
   ]
  },
  {
   "cell_type": "markdown",
   "metadata": {},
   "source": [
    "[30 points] Problem 2 - The Kernel Trick\n",
    "---\n",
    "The kernel trick can make SVM powerful and become non-linear. In this problem we will get familiar with the kernel trick.\n",
    "\n",
    "**Part 1 [10 points]:**\n",
    "\n",
    "We will construct a support vector machine that computes the XOR function, using values of +1 and −1 (instead of 1 and 0) for both inputs and outputs, so that an example looks like ($[−1, 1], 1$) or ($[−1, −1], −1$). Map the input $[x_1, x_2]$ into a space consisting of $x_1$ and $x_1x_2$. Plot the four input points in this space, and the maximal margin separator. Give the margin value in the markdown cell. Remeber to indicate which points have output +1 and which -1."
   ]
  },
  {
   "cell_type": "code",
   "execution_count": 4,
   "metadata": {
    "deletable": false,
    "nbgrader": {
     "cell_type": "code",
     "checksum": "e495557a163be3eb33fccc9d445e8de3",
     "grade": false,
     "grade_id": "cell-20ea52b04bb94dee",
     "locked": false,
     "schema_version": 3,
     "solution": true,
     "task": false
    }
   },
   "outputs": [
    {
     "data": {
      "text/plain": [
       "Text(0.5, 1.0, 'XOR using [x1 , x1x2]')"
      ]
     },
     "execution_count": 4,
     "metadata": {},
     "output_type": "execute_result"
    },
    {
     "data": {
      "image/png": "[encoded data removed]",
      "text/plain": [
       "<Figure size 576x576 with 1 Axes>"
      ]
     },
     "metadata": {
      "needs_background": "light"
     },
     "output_type": "display_data"
    }
   ],
   "source": [
    "# YOUR CODE HERE\n",
    "data = np.array([[-1,-1,-1],[-1,1,1],[1,-1,1],[1,1,-1]])\n",
    "x1 = data[:,0:1]\n",
    "x2 = data[:,1:2]\n",
    "x1x2 = x1 * x2\n",
    "\n",
    "colors = []\n",
    "for i in range(len(x1x2)):\n",
    "    if x1x2[i] == 1:\n",
    "        colors.append(\"red\")\n",
    "    else:\n",
    "        colors.append(\"green\")\n",
    "txt = []\n",
    "for i in range(len(x1x2)):\n",
    "    if x1x2[i] == 1:\n",
    "        txt.append(\"   -1\")\n",
    "    else:\n",
    "        txt.append(\"  +1\")\n",
    "    \n",
    "#Create an SVM to find the margind create the line\n",
    "margin = SVM()\n",
    "alpha = [1,1,1,1]\n",
    "w = margin.weight_vector(x = x1, y = x1x2, alpha = alpha)\n",
    "\n",
    "#plot in puts and max margin separator\n",
    "fig, ax = plt.subplots(nrows=1, ncols=1, figsize=(8, 8))\n",
    "ax.scatter(x1, x1x2,c = colors, s = 100)\n",
    "x_plot = x1\n",
    "y_plot = w * x1\n",
    "for i in range(len(txt)):\n",
    "    plt.annotate(txt[i],xy=(x1[i],x1x2[i]))\n",
    "ax.plot(x_plot,y_plot,lw=3,color=\"black\")\n",
    "ax.grid(alpha=0.25)\n",
    "ax.set_xlabel(\"x1\", fontsize=16)\n",
    "ax.set_ylabel(\"x1x2\", fontsize=16)\n",
    "ax.set_title(\"XOR using [x1 , x1x2]\")"
   ]
  },
  {
   "cell_type": "markdown",
   "metadata": {
    "deletable": false,
    "nbgrader": {
     "cell_type": "markdown",
     "checksum": "21d15db327a141bbe8d5bf2323358407",
     "grade": true,
     "grade_id": "cell-64bbc4980b5c4edd",
     "locked": false,
     "points": 10,
     "schema_version": 3,
     "solution": true,
     "task": false
    }
   },
   "source": [
    "From the plot, the margin = 1."
   ]
  },
  {
   "cell_type": "markdown",
   "metadata": {},
   "source": [
    "**Part 2 [5 points]:** Plot the separating line of **Part 1** back in the original Euclidean input space."
   ]
  },
  {
   "cell_type": "code",
   "execution_count": 5,
   "metadata": {
    "deletable": false,
    "nbgrader": {
     "cell_type": "code",
     "checksum": "e6e323e18881c3d6be9b1ff2abd3d8ac",
     "grade": true,
     "grade_id": "cell-9020bbe03ed87cfc",
     "locked": false,
     "points": 5,
     "schema_version": 3,
     "solution": true,
     "task": false
    }
   },
   "outputs": [
    {
     "data": {
      "text/plain": [
       "Text(0.5, 1.0, 'XOR using [x1 , x2]')"
      ]
     },
     "execution_count": 5,
     "metadata": {},
     "output_type": "execute_result"
    },
    {
     "data": {
      "image/png": "[encoded data removed]",
      "text/plain": [
       "<Figure size 576x576 with 1 Axes>"
      ]
     },
     "metadata": {
      "needs_background": "light"
     },
     "output_type": "display_data"
    }
   ],
   "source": [
    "# YOUR CODE HERE\n",
    "# YOUR CODE HERE\n",
    "data = np.array([[-1,-1,-1],[-1,1,1],[1,-1,1],[1,1,-1]])\n",
    "x1 = data[:,0:1]\n",
    "x2 = data[:,1:2]\n",
    "y = data[:,2]\n",
    "\n",
    "colors = []\n",
    "for i in range(len(y)):\n",
    "    if y[i] == 1:\n",
    "        colors.append(\"red\")\n",
    "    else:\n",
    "        colors.append(\"green\")\n",
    "txt = []\n",
    "for i in range(len(x1x2)):\n",
    "    if y[i] == 1:\n",
    "        txt.append(\"   -1\")\n",
    "    else:\n",
    "        txt.append(\"  +1\")  \n",
    "\n",
    "    \n",
    "#Create an SVM to find the margind create the line\n",
    "margin = SVM()\n",
    "w = margin.weight_vector(x=x1,y=x2,alpha=[1,1,1,1])\n",
    "\n",
    "#plot in puts and max margin separator\n",
    "fig, ax = plt.subplots(nrows=1, ncols=1, figsize=(8, 8))\n",
    "ax.scatter(x1, x2,c = colors, s=75)\n",
    "x_plot1 = x1\n",
    "y_plot1 = w * x1\n",
    "\n",
    "#flip the values to make split\n",
    "x_plot2 = w * x1\n",
    "y_plot2 = x1\n",
    "\n",
    "for i in range(len(txt)):\n",
    "    plt.annotate(txt[i],xy=(x1[i],x2[i]))\n",
    "    \n",
    "ax.plot(x_plot1,y_plot1,lw=3,color=\"black\")\n",
    "ax.plot(x_plot2,y_plot2,lw=3,color=\"black\")\n",
    "ax.grid(alpha=0.25)\n",
    "ax.set_xlabel(\"x1\", fontsize=16)\n",
    "ax.set_ylabel(\"x2\", fontsize=16)\n",
    "ax.set_title(\"XOR using [x1 , x2]\")"
   ]
  },
  {
   "cell_type": "markdown",
   "metadata": {},
   "source": [
    "**Part 3 [5 points]:** Is the separater in **Part 1** linear? Is the one in **Part 2** linear? Explain your answer."
   ]
  },
  {
   "cell_type": "markdown",
   "metadata": {
    "deletable": false,
    "nbgrader": {
     "cell_type": "markdown",
     "checksum": "8821f5382c580de24c483bd1a0cd4b31",
     "grade": true,
     "grade_id": "cell-119e16472d287f4e",
     "locked": false,
     "points": 5,
     "schema_version": 3,
     "solution": true,
     "task": false
    }
   },
   "source": [
    "Part 1 is linear. All of the +1 points are seaprated from the -1 points by a single separating hyperplane. Part 2 in NOT linear. There is more than one separating hyperplane."
   ]
  },
  {
   "cell_type": "markdown",
   "metadata": {},
   "source": [
    "**Part 4 [10 points]:**\n",
    "The key point of the so-called “kernel trick” in SVMs is to learn a classifier that effectively separates the training data in a higher dimensional space without having to explicitly compute the representation $\\phi(\\mathbf{x})$ of every point $\\mathbf{x}$ in the original input space. Instead, all the work is done through the kernel function $K(\\mathbf{x}_i, \\mathbf{x}_j)$, for example, we can use $K(\\mathbf{x}_i, \\mathbf{x}_j) = \\phi(\\mathbf{x}_i)\\phi(\\mathbf{x}_j)$.\n",
    "\n",
    "Show how to compute the squared Euclidean distance in the projected space between any two points $\\mathbf{x}_i$, $\\mathbf{x}_j$ in the original space without explicitly computing the $\\phi$ mapping, instead using the kernel function $K$. In other words, derive $d(\\phi(\\mathbf{x}_i), \\phi(\\mathbf{x}_j))$ into a form using only the kernel function."
   ]
  },
  {
   "cell_type": "markdown",
   "metadata": {
    "deletable": false,
    "nbgrader": {
     "cell_type": "markdown",
     "checksum": "3beedd96d39e9c464377ae2885f78ba0",
     "grade": true,
     "grade_id": "cell-c6b6512e7d992202",
     "locked": false,
     "points": 10,
     "schema_version": 3,
     "solution": true,
     "task": false
    }
   },
   "source": [
    "\\begin{equation*}\n",
    "(d(\\phi(x_i),\\phi(x_j)))^2 = \\sum_{k=0}^{N} (\\phi(x_i)_k - \\phi(x_j)_k)^2 = \\sum_{k=0}^{N} (\\phi(x_i)_k\\phi(x_i)_k - 2\\phi(x_i)_k\\phi(x_j)_k + \\phi(x_j)_k\\phi(x_j)_k = K(x_i,x_i) - 2K(x_i,x_j) + K(x_j,x_j)\n",
    "\\end{equation*}"
   ]
  },
  {
   "cell_type": "markdown",
   "metadata": {},
   "source": [
    "[30 points] Problem 3 - SVM with `sklearn`\n",
    "---\n",
    "\n",
    "In this problem, you will get familiar with important practical functions in scikit-learn such as pipeline, grid search, and cross validation. You will experiment with these using support vector machines.\n",
    "\n",
    "Note that grid search can take some time on your laptop, so make sure that your code is correct with a small subset of the training data and search a reasonable number of options.\n",
    "\n",
    "* Use the Sklearn implementation of support vector machines to train a classifier to distinguish Positive and negative sentiments\n",
    "* Experiment with linear, polynomial, and RBF kernels. First, perform a GridSearch over each kernel function and a small set of parameters defined over a wide range to help narrow down the search space.\n",
    "* Then choose the best performing kernel from your coarse scale search and define a narrower set of parameters for random search to further optimize the hyperparameters. Comment on the experiments you ran and optimal hyperparameters you found.\n",
    "Hint: http://scikit-learn.org/stable/modules/grid_search.html\n",
    "* Evaluate classification performance for each model for optimal parameters by testing on a hold-out set.\n",
    "\n",
    "Following is a dataset containing reviews and sentiments associated with it.\n",
    "\n",
    "We will create a SVM Classifier to predict positive or negative sentiments."
   ]
  },
  {
   "cell_type": "code",
   "execution_count": 6,
   "metadata": {},
   "outputs": [
    {
     "name": "stdout",
     "output_type": "stream",
     "text": [
      "5000\n"
     ]
    }
   ],
   "source": [
    "import pandas as pd\n",
    "from sklearn.model_selection import train_test_split, StratifiedKFold\n",
    "reviews  = pd.read_csv('./data/reviews.csv')\n",
    "train, test = train_test_split(reviews, test_size=0.2, random_state=5622)\n",
    "print(len(reviews))\n",
    "X_train = train['reviews']\n",
    "X_test = test['reviews']\n",
    "y_train = train['sentiment']\n",
    "y_test = test['sentiment']"
   ]
  },
  {
   "cell_type": "code",
   "execution_count": 7,
   "metadata": {},
   "outputs": [
    {
     "data": {
      "text/plain": [
       "(4000, 1995, 1000, 505)"
      ]
     },
     "execution_count": 7,
     "metadata": {},
     "output_type": "execute_result"
    }
   ],
   "source": [
    "len(X_train),sum(y_train),len(X_test),sum(y_test)"
   ]
  },
  {
   "cell_type": "code",
   "execution_count": 8,
   "metadata": {},
   "outputs": [],
   "source": [
    "import nltk\n",
    "from nltk.corpus import stopwords\n",
    "from nltk.tokenize import TweetTokenizer\n",
    "from sklearn.feature_extraction.text import CountVectorizer\n",
    "from sklearn.svm import SVC\n",
    "from sklearn.pipeline import make_pipeline, Pipeline\n",
    "from sklearn.model_selection import GridSearchCV, RandomizedSearchCV\n",
    "from sklearn.metrics import accuracy_score, f1_score\n",
    "from sklearn.metrics import confusion_matrix, roc_auc_score, recall_score, precision_score"
   ]
  },
  {
   "cell_type": "markdown",
   "metadata": {},
   "source": [
    "**Part 1 [5 points]:**\n",
    "\n",
    "Use `CountVectorizer` to vectorize reviews as dictionary of term frequencies.\n",
    "Define the crossvalidation split using `StratifiedKFold`."
   ]
  },
  {
   "cell_type": "code",
   "execution_count": 9,
   "metadata": {
    "deletable": false,
    "nbgrader": {
     "cell_type": "code",
     "checksum": "ff5c05e229aacfb20ead9cab47a30752",
     "grade": true,
     "grade_id": "cell-ab58d371c35713b4",
     "locked": false,
     "points": 5,
     "schema_version": 3,
     "solution": true
    }
   },
   "outputs": [
    {
     "name": "stderr",
     "output_type": "stream",
     "text": [
      "[nltk_data] Downloading package stopwords to\n",
      "[nltk_data]     C:\\Users\\ajger\\AppData\\Roaming\\nltk_data...\n",
      "[nltk_data]   Package stopwords is already up-to-date!\n"
     ]
    }
   ],
   "source": [
    "def tokenize(text): \n",
    "    tknzr = TweetTokenizer()\n",
    "    return tknzr.tokenize(text)\n",
    "\n",
    "nltk.download('stopwords')\n",
    "en_stopwords = set(stopwords.words(\"english\")) \n",
    "\n",
    "# CREATE CountVectorizer using sklearn.feature_extraction.text.CountVectorizer\n",
    "# Hint: use the above tokenize function\n",
    "# Hint: play with different parameters, in particular, min_df can help with generalizability\n",
    "# YOUR CODE HERE\n",
    "vector = CountVectorizer(stop_words = en_stopwords, tokenizer = tokenize, min_df = 0.1)\n",
    "# X = vector.fit_transform(X_train)\n",
    "# a = X.toarray()\n",
    "\n",
    "# split dataset using StratifiedKFold into 5 splits using sklearn.model_selection.StratifiedKFold.\n",
    "# YOUR CODE HERE\n",
    "kfold = StratifiedKFold(n_splits = 5)"
   ]
  },
  {
   "cell_type": "markdown",
   "metadata": {},
   "source": [
    "**Part 2 [10 points]:**\n",
    "* Create a pipeline with our `CountVectorizer` object in **Part 1** and an SVM Classifier.\n",
    "* Create and fit a `GridSearchCV` object with the following parameter values:\n",
    "  * Linear kernel, $C = 0.01, 1.0, 10.0$\n",
    "  * Polynomial kernel, $\\text{degree} = 2, 3$, $\\gamma = 0.1, 0.5, 1$\n",
    "  * RBF kernel, $\\gamma = 0.1, 0.5, 1$\n",
    "* Report accuracy on the best estimator from our `GridSearchCV` object."
   ]
  },
  {
   "cell_type": "code",
   "execution_count": 10,
   "metadata": {
    "deletable": false,
    "nbgrader": {
     "cell_type": "code",
     "checksum": "88d870b8bb537716016ae1577d22d90b",
     "grade": true,
     "grade_id": "cell-a3dd5b25a9ce8feb",
     "locked": false,
     "points": 5,
     "schema_version": 3,
     "solution": true
    }
   },
   "outputs": [],
   "source": [
    "np.random.seed(5622)\n",
    "# Define pipeline using make_pipeline with vectorizer and SVM Classifier\n",
    "# YOUR CODE HERE\n",
    "pl = make_pipeline(vector,SVC())\n",
    "\n",
    "# Create GridSearchCV with pipeline and the grid search parameters given above,\n",
    "# using \"accuracy\" for scoring.\n",
    "\n",
    "# YOUR CODE HERE\n",
    "# Create a dictionary that contains the different types of kernelk functions and their corresponding parameters\n",
    "\n",
    "parameters = [{'svc__kernel': ['linear'], 'svc__C': [0.01, 1.0, 10.0]}, \n",
    " {'svc__kernel' : ['poly'], 'svc__degree' : [2, 3], 'svc__gamma' : [0.1, 0.5, 1.0] },\n",
    " {'svc__kernel': ['rbf'], 'svc__gamma': [0.1, 0.5, 1.0]}]\n",
    "\n",
    "grid_svm = GridSearchCV(pl, param_grid = parameters,cv = kfold, scoring = 'accuracy')\n",
    "\n",
    "# For debugging purposes, it makes sense to use a smaller set of training set to speed up the grid search progress\n",
    "find_best = grid_svm.fit(X_train, y_train)"
   ]
  },
  {
   "cell_type": "code",
   "execution_count": 11,
   "metadata": {
    "deletable": false,
    "nbgrader": {
     "cell_type": "code",
     "checksum": "089068689cee53bba013581b01e8c6cc",
     "grade": true,
     "grade_id": "cell-47833f7ec14a9d22",
     "locked": false,
     "points": 5,
     "schema_version": 3,
     "solution": true,
     "task": false
    },
    "scrolled": true
   },
   "outputs": [
    {
     "name": "stdout",
     "output_type": "stream",
     "text": [
      "CV results:  {'mean_fit_time': array([ 3.59141679,  6.23845177, 24.86089311, 12.04587903, 14.31378045,\n",
      "       14.55974927, 12.30354214, 14.97877622, 15.06694651,  4.17274079,\n",
      "        4.14377604,  4.14277396]), 'std_fit_time': array([0.02117205, 0.36477458, 2.24532749, 0.9003516 , 1.0994073 ,\n",
      "       0.51598425, 1.32030113, 1.21994397, 1.15189157, 0.06086069,\n",
      "       0.0432896 , 0.0458747 ]), 'mean_score_time': array([0.81625972, 0.77022171, 0.77878561, 0.79286289, 0.74727407,\n",
      "       0.73497868, 0.74116516, 0.71287727, 0.71430497, 0.98505993,\n",
      "       0.99499145, 0.99760351]), 'std_score_time': array([0.0088077 , 0.00718239, 0.00952806, 0.02138265, 0.01672369,\n",
      "       0.00973149, 0.01387824, 0.00772484, 0.0051225 , 0.02418334,\n",
      "       0.01186991, 0.01263631]), 'param_svc__C': masked_array(data=[0.01, 1.0, 10.0, --, --, --, --, --, --, --, --, --],\n",
      "             mask=[False, False, False,  True,  True,  True,  True,  True,\n",
      "                    True,  True,  True,  True],\n",
      "       fill_value='?',\n",
      "            dtype=object), 'param_svc__kernel': masked_array(data=['linear', 'linear', 'linear', 'poly', 'poly', 'poly',\n",
      "                   'poly', 'poly', 'poly', 'rbf', 'rbf', 'rbf'],\n",
      "             mask=[False, False, False, False, False, False, False, False,\n",
      "                   False, False, False, False],\n",
      "       fill_value='?',\n",
      "            dtype=object), 'param_svc__degree': masked_array(data=[--, --, --, 2, 2, 2, 3, 3, 3, --, --, --],\n",
      "             mask=[ True,  True,  True, False, False, False, False, False,\n",
      "                   False,  True,  True,  True],\n",
      "       fill_value='?',\n",
      "            dtype=object), 'param_svc__gamma': masked_array(data=[--, --, --, 0.1, 0.5, 1.0, 0.1, 0.5, 1.0, 0.1, 0.5,\n",
      "                   1.0],\n",
      "             mask=[ True,  True,  True, False, False, False, False, False,\n",
      "                   False, False, False, False],\n",
      "       fill_value='?',\n",
      "            dtype=object), 'params': [{'svc__C': 0.01, 'svc__kernel': 'linear'}, {'svc__C': 1.0, 'svc__kernel': 'linear'}, {'svc__C': 10.0, 'svc__kernel': 'linear'}, {'svc__degree': 2, 'svc__gamma': 0.1, 'svc__kernel': 'poly'}, {'svc__degree': 2, 'svc__gamma': 0.5, 'svc__kernel': 'poly'}, {'svc__degree': 2, 'svc__gamma': 1.0, 'svc__kernel': 'poly'}, {'svc__degree': 3, 'svc__gamma': 0.1, 'svc__kernel': 'poly'}, {'svc__degree': 3, 'svc__gamma': 0.5, 'svc__kernel': 'poly'}, {'svc__degree': 3, 'svc__gamma': 1.0, 'svc__kernel': 'poly'}, {'svc__gamma': 0.1, 'svc__kernel': 'rbf'}, {'svc__gamma': 0.5, 'svc__kernel': 'rbf'}, {'svc__gamma': 1.0, 'svc__kernel': 'rbf'}], 'split0_test_score': array([0.745  , 0.73625, 0.73625, 0.69   , 0.66125, 0.65125, 0.65   ,\n",
      "       0.63625, 0.64   , 0.60125, 0.51625, 0.50375]), 'split1_test_score': array([0.72   , 0.72   , 0.72   , 0.68625, 0.665  , 0.65125, 0.66375,\n",
      "       0.625  , 0.625  , 0.60625, 0.50875, 0.49875]), 'split2_test_score': array([0.705  , 0.69875, 0.69875, 0.665  , 0.6375 , 0.6375 , 0.63625,\n",
      "       0.61875, 0.61875, 0.595  , 0.51375, 0.50375]), 'split3_test_score': array([0.73375, 0.73375, 0.72875, 0.68125, 0.655  , 0.6275 , 0.66   ,\n",
      "       0.62125, 0.6225 , 0.6175 , 0.51625, 0.50125]), 'split4_test_score': array([0.725  , 0.7225 , 0.72   , 0.64   , 0.63   , 0.635  , 0.64125,\n",
      "       0.6375 , 0.62875, 0.60125, 0.49625, 0.49875]), 'mean_test_score': array([0.72575, 0.72225, 0.72075, 0.6725 , 0.64975, 0.6405 , 0.65025,\n",
      "       0.62775, 0.627  , 0.60425, 0.51025, 0.50125]), 'std_test_score': array([0.01340709, 0.01330883, 0.01256483, 0.01835415, 0.0136565 ,\n",
      "       0.00937417, 0.01052972, 0.00772172, 0.00727152, 0.00752496,\n",
      "       0.00751665, 0.00223607]), 'rank_test_score': array([ 1,  2,  3,  4,  6,  7,  5,  8,  9, 10, 11, 12])}\n",
      "Best CV score:  0.72575\n",
      "Best Parameters:  {'svc__C': 0.01, 'svc__kernel': 'linear'}\n"
     ]
    }
   ],
   "source": [
    "# Report best parameters and CV score from grid search\n",
    "# YOUR CODE HERE\n",
    "print(\"CV results: \", find_best.cv_results_)\n",
    "print(\"Best CV score: \", find_best.best_score_)\n",
    "print(\"Best Parameters: \", find_best.best_params_)"
   ]
  },
  {
   "cell_type": "markdown",
   "metadata": {},
   "source": [
    "**Part 3 [10 points]:**\n",
    "\n",
    "Choose the best performing kernel and parameter values from your coarse scale grid search and use them to set up a narrower range of parameter values. We will use randomized grid search to sample a fixed number of these candidate parameter sets for cross validation. The number of sampled parameter sets `n_iter` provides a trade-off between computational cost and quality of the \"optimal\" parameters. Feel free to experiment with different values of this parameter, but please change it back to `n_iter = 5` before submitting your assignment."
   ]
  },
  {
   "cell_type": "code",
   "execution_count": 12,
   "metadata": {
    "deletable": false,
    "nbgrader": {
     "cell_type": "code",
     "checksum": "59e134fffac3e070713e01dd8de977f6",
     "grade": true,
     "grade_id": "cell-e1116a343a3e645a",
     "locked": false,
     "points": 5,
     "schema_version": 3,
     "solution": true,
     "task": false
    }
   },
   "outputs": [
    {
     "name": "stdout",
     "output_type": "stream",
     "text": [
      "Fitting 5 folds for each of 5 candidates, totalling 25 fits\n"
     ]
    },
    {
     "name": "stderr",
     "output_type": "stream",
     "text": [
      "[Parallel(n_jobs=-1)]: Using backend LokyBackend with 8 concurrent workers.\n",
      "[Parallel(n_jobs=-1)]: Done  25 out of  25 | elapsed:   40.1s finished\n"
     ]
    }
   ],
   "source": [
    "# Set random seed for deterministic output\n",
    "np.random.seed(5622)\n",
    "\n",
    "# Set param_grid to a dictionary containing parameter values for fine scale search.\n",
    "\n",
    "# Make a new dictionary based on what the best was above with 5 values for the paramters\n",
    "param_grid = {'svc__kernel': ['linear'], 'svc__C': [0.005, 0.006, 0.007, 0.008, 0.009, 0.01, 0.011, 0.012, 0.013, 0.014, 0.015]}\n",
    "# Create randomized parameter search over fine scale grid;\n",
    "# Do NOT change the value of n_iter in the submitted version of your notebook.\n",
    "n_iter = 5\n",
    "random_svm = RandomizedSearchCV(pl,\n",
    "                                param_grid,\n",
    "                                n_iter = n_iter,\n",
    "                                cv = kfold,\n",
    "                                scoring = \"accuracy\",\n",
    "                                verbose = 1,   \n",
    "                                n_jobs = -1)\n",
    "\n",
    "svm_rand_linear = random_svm.fit(X_train, y_train)"
   ]
  },
  {
   "cell_type": "code",
   "execution_count": 13,
   "metadata": {
    "deletable": false,
    "nbgrader": {
     "cell_type": "code",
     "checksum": "4b5d5fa7e1321d87c5eef4b928afaf25",
     "grade": true,
     "grade_id": "cell-39b5a8b9e508cf0e",
     "locked": false,
     "points": 5,
     "schema_version": 3,
     "solution": true,
     "task": false
    }
   },
   "outputs": [
    {
     "name": "stdout",
     "output_type": "stream",
     "text": [
      "CV results:  {'mean_fit_time': array([7.57321024, 8.0640233 , 9.14352717, 8.93294377, 8.0048666 ]), 'std_fit_time': array([0.07065048, 0.77622316, 0.0746529 , 0.15606782, 1.81401819]), 'mean_score_time': array([1.98964906, 2.05381422, 2.23024859, 1.99323659, 1.76032739]), 'std_score_time': array([0.05191829, 0.09987477, 0.05300112, 0.09300238, 0.4693255 ]), 'param_svc__kernel': masked_array(data=['linear', 'linear', 'linear', 'linear', 'linear'],\n",
      "             mask=[False, False, False, False, False],\n",
      "       fill_value='?',\n",
      "            dtype=object), 'param_svc__C': masked_array(data=[0.007, 0.01, 0.006, 0.011, 0.009],\n",
      "             mask=[False, False, False, False, False],\n",
      "       fill_value='?',\n",
      "            dtype=object), 'params': [{'svc__kernel': 'linear', 'svc__C': 0.007}, {'svc__kernel': 'linear', 'svc__C': 0.01}, {'svc__kernel': 'linear', 'svc__C': 0.006}, {'svc__kernel': 'linear', 'svc__C': 0.011}, {'svc__kernel': 'linear', 'svc__C': 0.009}], 'split0_test_score': array([0.74  , 0.745 , 0.735 , 0.745 , 0.7425]), 'split1_test_score': array([0.72375, 0.72   , 0.725  , 0.71875, 0.72   ]), 'split2_test_score': array([0.70375, 0.705  , 0.7025 , 0.705  , 0.70625]), 'split3_test_score': array([0.72625, 0.73375, 0.7275 , 0.73625, 0.73125]), 'split4_test_score': array([0.72375, 0.725  , 0.71875, 0.7275 , 0.72625]), 'mean_test_score': array([0.7235 , 0.72575, 0.72175, 0.7265 , 0.72525]), 'std_test_score': array([0.01157584, 0.01340709, 0.01094303, 0.01386092, 0.01202601]), 'rank_test_score': array([4, 2, 5, 1, 3])}\n",
      "Best CV score:  0.7265\n",
      "Best Parameters:  {'svc__kernel': 'linear', 'svc__C': 0.011}\n"
     ]
    }
   ],
   "source": [
    "# Report best parameters and CV score from grid search\n",
    "# YOUR CODE HERE\n",
    "print(\"CV results: \",svm_rand_linear.cv_results_)\n",
    "print(\"Best CV score: \", svm_rand_linear.best_score_)\n",
    "print(\"Best Parameters: \", svm_rand_linear.best_params_)"
   ]
  },
  {
   "cell_type": "code",
   "execution_count": 14,
   "metadata": {},
   "outputs": [],
   "source": [
    "def report_results(model, X, y):\n",
    "    pred = model.predict(X)        \n",
    "    acc = accuracy_score(y, pred)\n",
    "    f1 = f1_score(y, pred)\n",
    "    prec = precision_score(y, pred)\n",
    "    rec = recall_score(y, pred)\n",
    "    result = {'f1': f1, 'acc': acc, 'precision': prec, 'recall': rec}\n",
    "    return result"
   ]
  },
  {
   "cell_type": "code",
   "execution_count": 15,
   "metadata": {},
   "outputs": [
    {
     "data": {
      "text/plain": [
       "{'f1': 0.7475915221579962,\n",
       " 'acc': 0.738,\n",
       " 'precision': 0.7279549718574109,\n",
       " 'recall': 0.7683168316831683}"
      ]
     },
     "execution_count": 15,
     "metadata": {},
     "output_type": "execute_result"
    }
   ],
   "source": [
    "report_results(random_svm.best_estimator_, X_test, y_test)"
   ]
  },
  {
   "cell_type": "markdown",
   "metadata": {},
   "source": [
    "**Part 4 [5 points]:**\n",
    "\n",
    "Explain the overall procedure, and report the final result including which hyperparameter values were chosen. Make sure to explain your reasoning in choosing a refined parameter search space in **Part 3**."
   ]
  },
  {
   "cell_type": "markdown",
   "metadata": {
    "deletable": false,
    "nbgrader": {
     "cell_type": "markdown",
     "checksum": "651d32596f089e5e6a6cc978c6f79cd6",
     "grade": true,
     "grade_id": "cell-6fecb92ed6ad5abe",
     "locked": false,
     "points": 5,
     "schema_version": 3,
     "solution": true
    }
   },
   "source": [
    "Creating the pipeline allows us to run several different kernel functions alongside the SVC. When running the different kernel functions - rbf, polynomial, and linear - with a range of values for their corresponding parameters, the best result came from a linear kernel with C = 0.01. A refined search space centerede around 0.01 was then used and the best result came from C = 0.011."
   ]
  },
  {
   "cell_type": "markdown",
   "metadata": {},
   "source": [
    "### Optional survey.\n",
    "***\n",
    "\n",
    "We are always interested in your feedback. At the end of each homework, there is a simple anonymous feedback [survey](https://forms.gle/bEaNM6G2qFRKhU4Z9) to solicit your feedback for how to improve the course."
   ]
  },
  {
   "cell_type": "code",
   "execution_count": null,
   "metadata": {},
   "outputs": [],
   "source": []
  }
 ],
 "metadata": {
  "kernelspec": {
   "display_name": "Python 3",
   "language": "python",
   "name": "python3"
  },
  "language_info": {
   "codemirror_mode": {
    "name": "ipython",
    "version": 3
   },
   "file_extension": ".py",
   "mimetype": "text/x-python",
   "name": "python",
   "nbconvert_exporter": "python",
   "pygments_lexer": "ipython3",
   "version": "3.7.4"
  }
 },
 "nbformat": 4,
 "nbformat_minor": 2
}
